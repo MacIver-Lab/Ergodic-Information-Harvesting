{
 "cells": [
  {
   "cell_type": "markdown",
   "metadata": {},
   "source": [
    "# Ergodic Information Harvesting Simulation\n",
    "This is the centralized code for you to run all of the simultions necessary to reproduce the raw data for the paper."
   ]
  },
  {
   "cell_type": "markdown",
   "metadata": {},
   "source": [
    "## 1. Install and import dependencies"
   ]
  },
  {
   "cell_type": "code",
   "execution_count": null,
   "metadata": {
    "scrolled": false
   },
   "outputs": [],
   "source": [
    "# Run this block if you have any missing python dependencies\n",
    "!pip install scipy==1.0.1 numpy==1.14.3"
   ]
  },
  {
   "cell_type": "code",
   "execution_count": null,
   "metadata": {},
   "outputs": [],
   "source": [
    "from itertools import product \n",
    "from multiprocessing import Pool, cpu_count\n",
    "from scipy.io import loadmat, savemat\n",
    "from numpy import linspace, arange, concatenate\n",
    "from os import makedirs, scandir\n",
    "from os.path import exists\n",
    "from shutil import copy2\n",
    "import numpy as np\n",
    "# Suppress all warnings\n",
    "np.seterr(all='ignore')\n",
    "import warnings\n",
    "warnings.filterwarnings(\"ignore\")\n",
    "# UTC Timestamp\n",
    "import time\n",
    "from datetime import datetime\n",
    "# Ergodic Harvesting Code\n",
    "from ErgodicHarvestingLib.SimParameters import ErgodicParameters, EIDParameters\n",
    "from ErgodicHarvestingLib.Simulation import EIDSim\n",
    "from SimulationMain import SimulationMain"
   ]
  },
  {
   "cell_type": "markdown",
   "metadata": {},
   "source": [
    "## 2. Specify simulation target\n",
    "**This is the place for you to input the specifications.** Use this section to specify the target figure you want to simulate. The available parameters for `targetFigure` is listed below:\n",
    "\n",
    "- `fig1` - Simulate ergodic harvesting and infotaxis data used for figure 1\n",
    "- `fig2` - Simulate ergodic harvesting data for electric fish, rat, and mole under strong and weak signal in figure 2\n",
    "- `fig3` - Simulate infotaxis data for figure 3 panel a and b (used in the caption). Note that the ergodic harvesting data used for panel a and b are the same for figure 2 and thus omitted to avoid duplicated simulation jobs. The ergodic harvesting and infotaxis data used for panel c is provided by `sm-fig1` simulation\n",
    "- `sm-fig1` - Simulate a large samples of ergodic harvesting and infotaxis trials for supplementary figure 1. The same data is also used for panel c of figure 3 in the main paper.\n",
    "- `sm-fig5` - Simulate ergodic harvesting data used in supplement figure 5\n",
    "\n",
    "The simulation is accelerated using parallel computing that leverage multiple CPU thread to simultaneously simulate multiple trails. Use `nThread` to specify the maximum number of thread available for the simulation and the code will use **up to** `nThread` if needed. If you want to achieve maximum speed, consider use `nThread = cpu_count()` or follow the included tutorial about how to use public computing cloud like Google Cloud or AWS to accelerate."
   ]
  },
  {
   "cell_type": "code",
   "execution_count": null,
   "metadata": {},
   "outputs": [],
   "source": [
    "targetFigure = ['fig1', 'fig2', 'fig3', 'sm-fig1', 'sm-fig5']\n",
    "nThread = 16"
   ]
  },
  {
   "cell_type": "markdown",
   "metadata": {},
   "source": [
    "## 3. Submit simulations\n",
    "The following code find all of the simulations needed to run and submit them in a batch fashion."
   ]
  },
  {
   "cell_type": "code",
   "execution_count": null,
   "metadata": {
    "scrolled": true
   },
   "outputs": [],
   "source": [
    "timeStampStart0 = datetime.fromtimestamp(time.time())\n",
    "for fig in targetFigure:\n",
    "    timeStampStart = datetime.fromtimestamp(time.time())\n",
    "    # Find parameter files\n",
    "    paramPath = './FigParameters/{0}/'.format(fig)\n",
    "    params = [f.name for f in scandir(paramPath) if f.is_file() and '.json' in f.name]\n",
    "\n",
    "    # Launch simulation for current figure\n",
    "    nSimJobs = len(params)\n",
    "    jobIdx = 1\n",
    "    for p in params:\n",
    "        print('Submitting simulation job - {0}\\n'\n",
    "              'Progress {1}/{2} ({3}%)'.format(p.replace('.json',''), jobIdx, nSimJobs, 100.0*jobIdx/nSimJobs))\n",
    "        print('---------------------------------------------------------------')\n",
    "        SimulationMain(paramPath+p, nThread=nThread)\n",
    "        jobIdx += 1\n",
    "\n",
    "    timeStampEnd = datetime.fromtimestamp(time.time())\n",
    "    timeString = timeStampEnd.strftime(\"%b-%d-%Y %T\")\n",
    "    durationSecond = (timeStampEnd - timeStampStart).total_seconds()\n",
    "    print(\"Figure {0} simulation finished at {1}, total time taken for simulation {2} seconds\".format(fig, timeString, durationSecond))\n",
    "\n",
    "durationSecond = (timeStampEnd - timeStampStart0).total_seconds()\n",
    "print(\"All done! EOF at {0}, total time taken for all simulation(s) {1}\".format(timeString, durationSecond))"
   ]
  }
 ],
 "metadata": {
  "kernelspec": {
   "display_name": "Python 3",
   "language": "python",
   "name": "python3"
  },
  "language_info": {
   "codemirror_mode": {
    "name": "ipython",
    "version": 3
   },
   "file_extension": ".py",
   "mimetype": "text/x-python",
   "name": "python",
   "nbconvert_exporter": "python",
   "pygments_lexer": "ipython3",
   "version": "3.6.5"
  }
 },
 "nbformat": 4,
 "nbformat_minor": 2
}
